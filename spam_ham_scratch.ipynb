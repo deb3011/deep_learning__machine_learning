{
 "cells": [
  {
   "cell_type": "markdown",
   "id": "394385ef",
   "metadata": {},
   "source": [
    "### Importing required dependencies"
   ]
  },
  {
   "cell_type": "code",
   "execution_count": 1,
   "id": "e0fe6806",
   "metadata": {},
   "outputs": [
    {
     "name": "stderr",
     "output_type": "stream",
     "text": [
      "[nltk_data] Downloading package stopwords to\n",
      "[nltk_data]     /home/debangshu/nltk_data...\n",
      "[nltk_data]   Package stopwords is already up-to-date!\n"
     ]
    },
    {
     "data": {
      "text/plain": [
       "True"
      ]
     },
     "execution_count": 1,
     "metadata": {},
     "output_type": "execute_result"
    }
   ],
   "source": [
    "import pandas as pd\n",
    "import numpy as np\n",
    "from decimal import Decimal\n",
    "import string\n",
    "import nltk\n",
    "from nltk.corpus import stopwords\n",
    "nltk.download('stopwords')"
   ]
  },
  {
   "cell_type": "code",
   "execution_count": 4,
   "id": "9da6f056",
   "metadata": {},
   "outputs": [],
   "source": [
    "df = pd.read_csv(r'/home/debangshu/Downloads/Dataset/spam_ham_dataset.csv', engine= 'python')"
   ]
  },
  {
   "cell_type": "code",
   "execution_count": 5,
   "id": "d7835ef2",
   "metadata": {},
   "outputs": [
    {
     "data": {
      "text/html": [
       "<div>\n",
       "<style scoped>\n",
       "    .dataframe tbody tr th:only-of-type {\n",
       "        vertical-align: middle;\n",
       "    }\n",
       "\n",
       "    .dataframe tbody tr th {\n",
       "        vertical-align: top;\n",
       "    }\n",
       "\n",
       "    .dataframe thead th {\n",
       "        text-align: right;\n",
       "    }\n",
       "</style>\n",
       "<table border=\"1\" class=\"dataframe\">\n",
       "  <thead>\n",
       "    <tr style=\"text-align: right;\">\n",
       "      <th></th>\n",
       "      <th>Unnamed: 0</th>\n",
       "      <th>label</th>\n",
       "      <th>text</th>\n",
       "      <th>label_num</th>\n",
       "    </tr>\n",
       "  </thead>\n",
       "  <tbody>\n",
       "    <tr>\n",
       "      <th>0</th>\n",
       "      <td>605</td>\n",
       "      <td>ham</td>\n",
       "      <td>Subject: enron methanol ; meter # : 988291\\r\\n...</td>\n",
       "      <td>0</td>\n",
       "    </tr>\n",
       "    <tr>\n",
       "      <th>1</th>\n",
       "      <td>2349</td>\n",
       "      <td>ham</td>\n",
       "      <td>Subject: hpl nom for january 9 , 2001\\r\\n( see...</td>\n",
       "      <td>0</td>\n",
       "    </tr>\n",
       "    <tr>\n",
       "      <th>2</th>\n",
       "      <td>3624</td>\n",
       "      <td>ham</td>\n",
       "      <td>Subject: neon retreat\\r\\nho ho ho , we ' re ar...</td>\n",
       "      <td>0</td>\n",
       "    </tr>\n",
       "    <tr>\n",
       "      <th>3</th>\n",
       "      <td>4685</td>\n",
       "      <td>spam</td>\n",
       "      <td>Subject: photoshop , windows , office . cheap ...</td>\n",
       "      <td>1</td>\n",
       "    </tr>\n",
       "    <tr>\n",
       "      <th>4</th>\n",
       "      <td>2030</td>\n",
       "      <td>ham</td>\n",
       "      <td>Subject: re : indian springs\\r\\nthis deal is t...</td>\n",
       "      <td>0</td>\n",
       "    </tr>\n",
       "  </tbody>\n",
       "</table>\n",
       "</div>"
      ],
      "text/plain": [
       "   Unnamed: 0 label                                               text   \n",
       "0         605   ham  Subject: enron methanol ; meter # : 988291\\r\\n...  \\\n",
       "1        2349   ham  Subject: hpl nom for january 9 , 2001\\r\\n( see...   \n",
       "2        3624   ham  Subject: neon retreat\\r\\nho ho ho , we ' re ar...   \n",
       "3        4685  spam  Subject: photoshop , windows , office . cheap ...   \n",
       "4        2030   ham  Subject: re : indian springs\\r\\nthis deal is t...   \n",
       "\n",
       "   label_num  \n",
       "0          0  \n",
       "1          0  \n",
       "2          0  \n",
       "3          1  \n",
       "4          0  "
      ]
     },
     "execution_count": 5,
     "metadata": {},
     "output_type": "execute_result"
    }
   ],
   "source": [
    "df.head()"
   ]
  },
  {
   "cell_type": "code",
   "execution_count": 6,
   "id": "df30dc75",
   "metadata": {},
   "outputs": [],
   "source": [
    "def textClean(text):\n",
    "    nopunc = ''.join([char for char in text if char not in string.punctuation])\n",
    "    nopunc = set(nopunc.split())\n",
    "    clean = ' '.join([word for word in nopunc if word.lower() not in stopwords.words('english')])\n",
    "    return clean\n",
    "#applied_df = df.copy()\n",
    "df['text'] = df['text'].apply(lambda mail:textClean(mail))"
   ]
  },
  {
   "cell_type": "code",
   "execution_count": 7,
   "id": "e0b108a4",
   "metadata": {},
   "outputs": [],
   "source": [
    "# Train-Test split (0.7/0.3)\n",
    "test_df = df.sample(frac = 0.3)\n",
    "train_df = pd.concat([df, test_df]).drop_duplicates(keep=False)"
   ]
  },
  {
   "cell_type": "code",
   "execution_count": null,
   "id": "16dcc282",
   "metadata": {},
   "outputs": [],
   "source": [
    "# Master list of all unique words in dataset\n",
    "big_string = ''\n",
    "for text in train_df['text']:\n",
    "    big_string = ' '.join([big_string,text])\n",
    "\n",
    "big_string = big_string.split()\n",
    "big_string = [*set(big_string)]"
   ]
  },
  {
   "cell_type": "code",
   "execution_count": null,
   "id": "c560dd57",
   "metadata": {},
   "outputs": [],
   "source": [
    "# Emails to vectors function\n",
    "def word2vect(email, big_string=big_string):\n",
    "    \n",
    "    email = set(email.split())\n",
    "    v = np.zeros(len(big_string))\n",
    "    idx = [i for i,word in enumerate(big_string) if word in email]\n",
    "    v[np.array(idx)] = 1\n",
    "    return v"
   ]
  },
  {
   "cell_type": "code",
   "execution_count": null,
   "id": "7614cfc7",
   "metadata": {},
   "outputs": [],
   "source": [
    "# Matrix of all vectors\n",
    "X_train = np.array([word2vect(text) for v2 in train_df['text']])\n",
    "X_test = np.array([word2vect(text) for v2 in test_df['text']])"
   ]
  },
  {
   "cell_type": "code",
   "execution_count": null,
   "id": "dfdc5124",
   "metadata": {},
   "outputs": [],
   "source": [
    "# Output vector\n",
    "y_train = np.array([n for n in train_df['v1']])\n",
    "y_test = np.array([n for n in test_df['v1']])"
   ]
  },
  {
   "cell_type": "code",
   "execution_count": null,
   "id": "2b68ee59",
   "metadata": {},
   "outputs": [],
   "source": [
    "# spam = 1; ham = 0\n",
    "# Finding probabilities (genarating model using X_test)\n",
    "def prob_x_given_y(y_output,word):\n",
    "    \n",
    "    feature_given_output = X_train[:,word][np.where(y_train==y_output)] # Gives a particular word's column for a partucular y_output\n",
    "    return sum(feature_given_output)/len(feature_given_output)\n",
    "\n",
    "prob_x_given_spam = [prob_x_given_y(1, word) for word in range(len(big_string))]\n",
    "prob_x_given_ham = [prob_x_given_y(0, word) for word in range(len(big_string))]\n",
    "prob_x = [prob_x_given_y(y_train, word) for word in range(len(big_string))]\n",
    "prob_spam = sum(y_train)/len(y_train)\n",
    "prob_ham = 1-prob_spam"
   ]
  },
  {
   "cell_type": "code",
   "execution_count": null,
   "id": "9155ba86",
   "metadata": {},
   "outputs": [],
   "source": [
    "# Training model and getting predictions for y_test\n",
    "y_pred=[]\n",
    "for text in X_test:\n",
    "    \n",
    "    class_prior_spam = prob_spam\n",
    "    fl_spam = [prob_x_given_spam[i]+10**-18 for i,word in enumerate(text) if word==1]\n",
    "    dec_spam = [Decimal(x) for x in fl_spam]\n",
    "    likelihood_spam = np.prod(dec_spam)\n",
    "\n",
    "    class_prior_ham = prob_ham\n",
    "    l_ham = [prob_x_given_ham[i]+10**-18 for i,word in enumerate(text) if word==1]\n",
    "    dec_ham = [Decimal(x) for x in fl_ham]\n",
    "    likelihood_ham = np.prod(dec_ham)\n",
    "\n",
    "    predictor_prior = likelihood_spam*Decimal(class_prior_spam)+likelihood_ham* Decimal(class_prior_ham)\n",
    "\n",
    "\n",
    "    post_prob_spam = likelihood_spam*Decimal(class_prior_spam)/predictor_prior\n",
    "    post_prob_ham = likelihood_ham*Decimal(class_prior_ham)/predictor_prior\n",
    "    prediction = 1 if post_prob_spam>post_prob_ham else 0\n",
    "    y_pred.append(prediction)"
   ]
  },
  {
   "cell_type": "code",
   "execution_count": null,
   "id": "dd12b53b",
   "metadata": {},
   "outputs": [],
   "source": [
    "# Confusion matrix function\n",
    "def comp_confmat(y_train, y_pred):\n",
    "    # extract the different classes\n",
    "    classes = np.unique(y_train)\n",
    "    # initialize the confusion matrix\n",
    "    confmat = np.zeros((len(classes), len(classes)))\n",
    "    # loop across the different combinations of actual / predicted classes\n",
    "    for i in range(len(classes)):\n",
    "        for j in range(len(classes)):\n",
    "           # count the number of instances in each combination of actual / predicted classes\n",
    "           confmat[i, j] = np.sum((y_train == classes[i]) & (y_pred== classes[j]))\n",
    "    accuracy = (confmat[0,0]+confmat[1,1])/(confmat[0,0]+confmat[1,1]+confmat[0,1]+confmat[1,0])\n",
    "    print(accuracy)\n",
    "    return confmat\n",
    "\n",
    "# confusion matrix\n",
    "print(comp_confmat(y_test, y_pred))"
   ]
  },
  {
   "cell_type": "code",
   "execution_count": null,
   "id": "e0653768",
   "metadata": {},
   "outputs": [],
   "source": [
    "y_pred=[]\n",
    "for text in X_train:\n",
    "    class_prior_spam = prob_spam\n",
    "    fl_spam = [prob_x_given_spam[i]+10**-18 for i,word in enumerate(text) if word==1]\n",
    "    dec_spam = [Decimal(x) for x in fl_spam]\n",
    "    likelihood_spam = np.prod(dec_spam)\n",
    "\n",
    "    class_prior_ham = prob_ham\n",
    "    fl_ham = [prob_x_given_ham[i]+10**-18 for i,word in enumerate(text) if word==1]\n",
    "    dec_ham = [Decimal(x) for x in fl_ham]\n",
    "    likelihood_ham = np.prod(dec_ham)\n",
    "\n",
    "    predictor_prior = likelihood_spam*Decimal(class_prior_spam)+likelihood_ham* Decimal(class_prior_ham)\n",
    "\n",
    "\n",
    "    post_prob_spam = likelihood_spam*Decimal(class_prior_spam)/predictor_prior\n",
    "    post_prob_ham = likelihood_ham*Decimal(class_prior_ham)/predictor_prior\n",
    "    prediction = 1 if post_prob_spam>post_prob_ham else 0\n",
    "    y_pred.append(prediction)\n",
    "\n",
    "# confusion matrix\n",
    "print(comp_confmat(y_train, y_pred))"
   ]
  },
  {
   "cell_type": "code",
   "execution_count": null,
   "id": "4bbf9274",
   "metadata": {},
   "outputs": [],
   "source": []
  },
  {
   "cell_type": "code",
   "execution_count": null,
   "id": "2e293ec8",
   "metadata": {},
   "outputs": [],
   "source": []
  },
  {
   "cell_type": "code",
   "execution_count": null,
   "id": "3354b3de",
   "metadata": {},
   "outputs": [],
   "source": []
  },
  {
   "cell_type": "code",
   "execution_count": null,
   "id": "a033c23c",
   "metadata": {},
   "outputs": [],
   "source": []
  },
  {
   "cell_type": "code",
   "execution_count": null,
   "id": "c2f388de",
   "metadata": {},
   "outputs": [],
   "source": []
  },
  {
   "cell_type": "code",
   "execution_count": null,
   "id": "52566511",
   "metadata": {},
   "outputs": [],
   "source": []
  }
 ],
 "metadata": {
  "kernelspec": {
   "display_name": "Python 3 (ipykernel)",
   "language": "python",
   "name": "python3"
  },
  "language_info": {
   "codemirror_mode": {
    "name": "ipython",
    "version": 3
   },
   "file_extension": ".py",
   "mimetype": "text/x-python",
   "name": "python",
   "nbconvert_exporter": "python",
   "pygments_lexer": "ipython3",
   "version": "3.9.5"
  }
 },
 "nbformat": 4,
 "nbformat_minor": 5
}
